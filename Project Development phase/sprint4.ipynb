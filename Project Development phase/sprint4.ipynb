{
 "cells": [
  {
   "cell_type": "code",
   "execution_count": 2,
   "id": "336de00e",
   "metadata": {},
   "outputs": [],
   "source": [
    "import numpy as np \n",
    "from tensorflow.keras.models import load_model\n",
    "from tensorflow.keras.preprocessing import image"
   ]
  },
  {
   "cell_type": "code",
   "execution_count": 3,
   "id": "6678006f",
   "metadata": {},
   "outputs": [],
   "source": [
    "model=load_model(r'model_ibm.h5')"
   ]
  },
  {
   "cell_type": "code",
   "execution_count": 4,
   "id": "08f779a8",
   "metadata": {},
   "outputs": [],
   "source": [
    "img=image.load_img(r\"C:\\Users\\sangavi\\IBM\\data\\Testing\\Banana Red\\9_100.jpg\",target_size=(64,64))"
   ]
  },
  {
   "cell_type": "code",
   "execution_count": 6,
   "id": "598499d2",
   "metadata": {},
   "outputs": [],
   "source": [
    "index=['Banana', 'Banana Lady Finger', 'Banana Red', 'Guava', 'Mango', 'Mango Red', 'Papaya', 'Pineapple', 'Pineapple Mini', 'Pomegranate']"
   ]
  },
  {
   "cell_type": "code",
   "execution_count": 7,
   "id": "baf94b0f",
   "metadata": {},
   "outputs": [
    {
     "name": "stdout",
     "output_type": "stream",
     "text": [
      "1/1 [==============================] - 0s 323ms/step\n"
     ]
    }
   ],
   "source": [
    "x=image.img_to_array(img)\n",
    "x=np.expand_dims(x,axis=0)\n",
    "pred=np.argmax(model.predict(x), axis=1)"
   ]
  },
  {
   "cell_type": "code",
   "execution_count": 8,
   "id": "2fe391c3",
   "metadata": {},
   "outputs": [],
   "source": [
    "result=str(index[pred[0]])"
   ]
  },
  {
   "cell_type": "code",
   "execution_count": 9,
   "id": "fb2121eb",
   "metadata": {},
   "outputs": [
    {
     "name": "stdout",
     "output_type": "stream",
     "text": [
      "Banana Red\n"
     ]
    }
   ],
   "source": [
    "print(result)"
   ]
  },
  {
   "cell_type": "code",
   "execution_count": null,
   "id": "277e8519",
   "metadata": {},
   "outputs": [],
   "source": []
  }
 ],
 "metadata": {
  "kernelspec": {
   "display_name": "Python 3 (ipykernel)",
   "language": "python",
   "name": "python3"
  },
  "language_info": {
   "codemirror_mode": {
    "name": "ipython",
    "version": 3
   },
   "file_extension": ".py",
   "mimetype": "text/x-python",
   "name": "python",
   "nbconvert_exporter": "python",
   "pygments_lexer": "ipython3",
   "version": "3.9.7"
  }
 },
 "nbformat": 4,
 "nbformat_minor": 5
}
