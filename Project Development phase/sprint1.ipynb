{
 "cells": [
  {
   "cell_type": "code",
   "execution_count": 3,
   "id": "f4383cfd",
   "metadata": {},
   "outputs": [],
   "source": [
    "# ImageDataGenerator libraries"
   ]
  },
  {
   "cell_type": "code",
   "execution_count": 2,
   "id": "5b8e6cc2",
   "metadata": {},
   "outputs": [],
   "source": [
    "import numpy as np\n",
    "import tensorflow \n",
    "from tensorflow.keras.models import Sequential\n",
    "from tensorflow.keras import layers \n",
    "from tensorflow.keras.layers import Dense,Flatten\n",
    "from tensorflow.keras.layers import Conv2D,MaxPooling2D,Dropout \n",
    "from keras.preprocessing.image import ImageDataGenerator"
   ]
  },
  {
   "cell_type": "code",
   "execution_count": 4,
   "id": "5e7134e5",
   "metadata": {},
   "outputs": [],
   "source": [
    "#Applying ImageDataGenerator functionality to train and test data"
   ]
  },
  {
   "cell_type": "code",
   "execution_count": 5,
   "id": "d136394f",
   "metadata": {},
   "outputs": [],
   "source": [
    "train_datagen = ImageDataGenerator(rescale=1./255,shear_range=0.2,zoom_range=0.2,horizontal_flip=True)\n",
    "#Image Data agumentation to the testing data\n",
    "test_datagen=ImageDataGenerator(rescale=1./255)"
   ]
  },
  {
   "cell_type": "code",
   "execution_count": 6,
   "id": "56d63de5",
   "metadata": {},
   "outputs": [
    {
     "name": "stdout",
     "output_type": "stream",
     "text": [
      "Found 4803 images belonging to 10 classes.\n",
      "Found 1615 images belonging to 10 classes.\n"
     ]
    }
   ],
   "source": [
    "x_train = train_datagen.flow_from_directory(\n",
    "    r'data/Training',\n",
    "    target_size=(64, 64),batch_size=5,color_mode='rgb',class_mode='sparse')\n",
    "#performing data agumentation to test data\n",
    "x_test = test_datagen.flow_from_directory(\n",
    "    r'data/Testing',\n",
    "    target_size=(64, 64),batch_size=5,color_mode='rgb',class_mode='sparse')"
   ]
  },
  {
   "cell_type": "code",
   "execution_count": 7,
   "id": "4c3e7b7d",
   "metadata": {},
   "outputs": [
    {
     "name": "stdout",
     "output_type": "stream",
     "text": [
      "{'Banana': 0, 'Banana Lady Finger': 1, 'Banana Red': 2, 'Guava': 3, 'Mango': 4, 'Mango Red': 5, 'Papaya': 6, 'Pineapple': 7, 'Pineapple Mini': 8, 'Pomegranate': 9}\n"
     ]
    }
   ],
   "source": [
    "print(x_train.class_indices)"
   ]
  },
  {
   "cell_type": "code",
   "execution_count": 8,
   "id": "c991d2e0",
   "metadata": {},
   "outputs": [
    {
     "name": "stdout",
     "output_type": "stream",
     "text": [
      "{'Banana': 0, 'Banana Lady Finger': 1, 'Banana Red': 2, 'Guava': 3, 'Mango': 4, 'Mango Red': 5, 'Papaya': 6, 'Pineapple': 7, 'Pineapple Mini': 8, 'Pomegranate': 9}\n"
     ]
    }
   ],
   "source": [
    "print(x_test.class_indices)"
   ]
  },
  {
   "cell_type": "code",
   "execution_count": 9,
   "id": "ef1bdb90",
   "metadata": {},
   "outputs": [
    {
     "data": {
      "text/plain": [
       "Counter({0: 490,\n",
       "         1: 450,\n",
       "         2: 490,\n",
       "         3: 490,\n",
       "         4: 490,\n",
       "         5: 426,\n",
       "         6: 492,\n",
       "         7: 490,\n",
       "         8: 493,\n",
       "         9: 492})"
      ]
     },
     "execution_count": 9,
     "metadata": {},
     "output_type": "execute_result"
    }
   ],
   "source": [
    "from collections import Counter as c\n",
    "c(x_train .labels)\n"
   ]
  },
  {
   "cell_type": "code",
   "execution_count": 10,
   "id": "144458d2",
   "metadata": {},
   "outputs": [
    {
     "data": {
      "text/plain": [
       "Counter({0: 166,\n",
       "         1: 152,\n",
       "         2: 166,\n",
       "         3: 166,\n",
       "         4: 166,\n",
       "         5: 142,\n",
       "         6: 164,\n",
       "         7: 166,\n",
       "         8: 163,\n",
       "         9: 164})"
      ]
     },
     "execution_count": 10,
     "metadata": {},
     "output_type": "execute_result"
    }
   ],
   "source": [
    "from collections import Counter as c\n",
    "c(x_test .labels)"
   ]
  },
  {
   "cell_type": "code",
   "execution_count": null,
   "id": "3ab9f32b",
   "metadata": {},
   "outputs": [],
   "source": []
  }
 ],
 "metadata": {
  "kernelspec": {
   "display_name": "Python 3 (ipykernel)",
   "language": "python",
   "name": "python3"
  },
  "language_info": {
   "codemirror_mode": {
    "name": "ipython",
    "version": 3
   },
   "file_extension": ".py",
   "mimetype": "text/x-python",
   "name": "python",
   "nbconvert_exporter": "python",
   "pygments_lexer": "ipython3",
   "version": "3.9.7"
  }
 },
 "nbformat": 4,
 "nbformat_minor": 5
}
