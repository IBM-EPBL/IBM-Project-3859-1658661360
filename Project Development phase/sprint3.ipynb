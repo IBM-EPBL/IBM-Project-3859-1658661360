{
 "cells": [
  {
   "cell_type": "code",
   "execution_count": 14,
   "id": "1fc80ba5",
   "metadata": {},
   "outputs": [],
   "source": [
    "# Initializing the CNN\n",
    "classifier = Sequential()\n",
    "\n",
    "# First convolution layer and pooling\n",
    "classifier.add(Conv2D(32, (3, 3), input_shape=(64, 64, 3), activation='relu'))\n",
    "classifier.add(MaxPooling2D(pool_size=(2, 2)))\n",
    "\n",
    "# Second convolution layer and pooling\n",
    "classifier.add(Conv2D(32, (3, 3), activation='relu'))\n",
    "\n",
    "# input_shape is going to be the pooled feature maps from the previous convolution layer\n",
    "classifier.add(MaxPooling2D(pool_size=(2, 2)))\n",
    "\n",
    "# Flattening the layers\n",
    "classifier.add(Flatten())\n",
    "\n",
    "# Adding a fully connected layer\n",
    "classifier.add(Dense(units=128, activation='relu'))\n",
    "classifier.add(Dense(units=10, activation='softmax')) # softmax for more than 2"
   ]
  },
  {
   "cell_type": "code",
   "execution_count": 15,
   "id": "c4f046ac",
   "metadata": {},
   "outputs": [
    {
     "name": "stdout",
     "output_type": "stream",
     "text": [
      "Model: \"sequential_1\"\n",
      "_________________________________________________________________\n",
      " Layer (type)                Output Shape              Param #   \n",
      "=================================================================\n",
      " conv2d_2 (Conv2D)           (None, 62, 62, 32)        896       \n",
      "                                                                 \n",
      " max_pooling2d_2 (MaxPooling  (None, 31, 31, 32)       0         \n",
      " 2D)                                                             \n",
      "                                                                 \n",
      " conv2d_3 (Conv2D)           (None, 29, 29, 32)        9248      \n",
      "                                                                 \n",
      " max_pooling2d_3 (MaxPooling  (None, 14, 14, 32)       0         \n",
      " 2D)                                                             \n",
      "                                                                 \n",
      " flatten_1 (Flatten)         (None, 6272)              0         \n",
      "                                                                 \n",
      " dense_2 (Dense)             (None, 128)               802944    \n",
      "                                                                 \n",
      " dense_3 (Dense)             (None, 10)                1290      \n",
      "                                                                 \n",
      "=================================================================\n",
      "Total params: 814,378\n",
      "Trainable params: 814,378\n",
      "Non-trainable params: 0\n",
      "_________________________________________________________________\n"
     ]
    }
   ],
   "source": [
    "classifier.summary()"
   ]
  },
  {
   "cell_type": "code",
   "execution_count": 16,
   "id": "742fa700",
   "metadata": {},
   "outputs": [],
   "source": [
    "classifier.compile(optimizer='adam', loss='sparse_categorical_crossentropy', metrics=['accuracy'])"
   ]
  },
  {
   "cell_type": "code",
   "execution_count": 17,
   "id": "58a51012",
   "metadata": {},
   "outputs": [
    {
     "name": "stdout",
     "output_type": "stream",
     "text": [
      "Epoch 1/10\n"
     ]
    },
    {
     "name": "stderr",
     "output_type": "stream",
     "text": [
      "C:\\Users\\sangavi\\AppData\\Local\\Temp/ipykernel_11636/1497412957.py:1: UserWarning: `Model.fit_generator` is deprecated and will be removed in a future version. Please use `Model.fit`, which supports generators.\n",
      "  classifier.fit_generator(\n"
     ]
    },
    {
     "name": "stdout",
     "output_type": "stream",
     "text": [
      "961/961 [==============================] - 32s 33ms/step - loss: 0.3460 - accuracy: 0.8795 - val_loss: 0.0545 - val_accuracy: 0.9690\n",
      "Epoch 2/10\n",
      "961/961 [==============================] - 23s 24ms/step - loss: 0.0483 - accuracy: 0.9863 - val_loss: 0.0198 - val_accuracy: 0.9963\n",
      "Epoch 3/10\n",
      "961/961 [==============================] - 24s 25ms/step - loss: 0.0191 - accuracy: 0.9954 - val_loss: 0.0064 - val_accuracy: 0.9981\n",
      "Epoch 4/10\n",
      "961/961 [==============================] - 24s 25ms/step - loss: 0.0576 - accuracy: 0.9915 - val_loss: 0.1524 - val_accuracy: 0.9344\n",
      "Epoch 5/10\n",
      "961/961 [==============================] - 26s 27ms/step - loss: 0.0546 - accuracy: 0.9854 - val_loss: 0.0181 - val_accuracy: 0.9969\n",
      "Epoch 6/10\n",
      "961/961 [==============================] - 26s 28ms/step - loss: 0.0302 - accuracy: 0.9938 - val_loss: 0.0341 - val_accuracy: 0.9907\n",
      "Epoch 7/10\n",
      "961/961 [==============================] - 26s 27ms/step - loss: 2.4197e-04 - accuracy: 1.0000 - val_loss: 0.0102 - val_accuracy: 0.9957\n",
      "Epoch 8/10\n",
      "961/961 [==============================] - 26s 27ms/step - loss: 0.0470 - accuracy: 0.9850 - val_loss: 0.0131 - val_accuracy: 0.9975\n",
      "Epoch 9/10\n",
      "961/961 [==============================] - 26s 27ms/step - loss: 5.9843e-04 - accuracy: 0.9998 - val_loss: 0.0043 - val_accuracy: 0.9981\n",
      "Epoch 10/10\n",
      "961/961 [==============================] - 24s 25ms/step - loss: 0.0213 - accuracy: 0.9952 - val_loss: 0.0111 - val_accuracy: 0.9957\n"
     ]
    },
    {
     "data": {
      "text/plain": [
       "<keras.callbacks.History at 0x256c3099520>"
      ]
     },
     "execution_count": 17,
     "metadata": {},
     "output_type": "execute_result"
    }
   ],
   "source": [
    "classifier.fit_generator(\n",
    "        generator=x_train,steps_per_epoch = len(x_train),\n",
    "        epochs=10, validation_data=x_test,validation_steps = len(x_test))# No of images in test set"
   ]
  },
  {
   "cell_type": "code",
   "execution_count": 18,
   "id": "bd16ca0d",
   "metadata": {},
   "outputs": [],
   "source": [
    "classifier.save('model_ibm.h5')"
   ]
  }
 ],
 "metadata": {
  "kernelspec": {
   "display_name": "Python 3 (ipykernel)",
   "language": "python",
   "name": "python3"
  },
  "language_info": {
   "codemirror_mode": {
    "name": "ipython",
    "version": 3
   },
   "file_extension": ".py",
   "mimetype": "text/x-python",
   "name": "python",
   "nbconvert_exporter": "python",
   "pygments_lexer": "ipython3",
   "version": "3.9.7"
  }
 },
 "nbformat": 4,
 "nbformat_minor": 5
}
