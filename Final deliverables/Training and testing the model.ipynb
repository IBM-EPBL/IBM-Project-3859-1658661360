{
 "cells": [
  {
   "cell_type": "code",
   "execution_count": 1,
   "id": "2136bcc4",
   "metadata": {},
   "outputs": [],
   "source": [
    "import numpy as np\n",
    "import tensorflow \n",
    "from tensorflow.keras.models import Sequential\n",
    "from tensorflow.keras import layers \n",
    "from tensorflow.keras.layers import Dense,Flatten\n",
    "from tensorflow.keras.layers import Conv2D,MaxPooling2D,Dropout \n",
    "from keras.preprocessing.image import ImageDataGenerator"
   ]
  },
  {
   "cell_type": "code",
   "execution_count": 2,
   "id": "e774971c",
   "metadata": {},
   "outputs": [],
   "source": [
    "train_datagen = ImageDataGenerator(rescale=1./255,shear_range=0.2,zoom_range=0.2,horizontal_flip=True)\n",
    "#Image Data agumentation to the testing data\n",
    "test_datagen=ImageDataGenerator(rescale=1./255)"
   ]
  },
  {
   "cell_type": "code",
   "execution_count": 3,
   "id": "81c07973",
   "metadata": {},
   "outputs": [
    {
     "name": "stdout",
     "output_type": "stream",
     "text": [
      "Found 4803 images belonging to 10 classes.\n",
      "Found 1615 images belonging to 10 classes.\n"
     ]
    }
   ],
   "source": [
    "x_train = train_datagen.flow_from_directory(\n",
    "    r'data/Training',\n",
    "    target_size=(64, 64),batch_size=5,color_mode='rgb',class_mode='sparse')\n",
    "#performing data agumentation to test data\n",
    "x_test = test_datagen.flow_from_directory(\n",
    "    r'data/Testing',\n",
    "    target_size=(64, 64),batch_size=5,color_mode='rgb',class_mode='sparse')"
   ]
  },
  {
   "cell_type": "code",
   "execution_count": 4,
   "id": "aa35bee0",
   "metadata": {},
   "outputs": [
    {
     "name": "stdout",
     "output_type": "stream",
     "text": [
      "{'Banana': 0, 'Banana Lady Finger': 1, 'Banana Red': 2, 'Guava': 3, 'Mango': 4, 'Mango Red': 5, 'Papaya': 6, 'Pineapple': 7, 'Pineapple Mini': 8, 'Pomegranate': 9}\n"
     ]
    }
   ],
   "source": [
    "print(x_train.class_indices)"
   ]
  },
  {
   "cell_type": "code",
   "execution_count": 5,
   "id": "735a997c",
   "metadata": {},
   "outputs": [
    {
     "name": "stdout",
     "output_type": "stream",
     "text": [
      "{'Banana': 0, 'Banana Lady Finger': 1, 'Banana Red': 2, 'Guava': 3, 'Mango': 4, 'Mango Red': 5, 'Papaya': 6, 'Pineapple': 7, 'Pineapple Mini': 8, 'Pomegranate': 9}\n"
     ]
    }
   ],
   "source": [
    "print(x_test.class_indices)"
   ]
  },
  {
   "cell_type": "code",
   "execution_count": 6,
   "id": "771fad21",
   "metadata": {},
   "outputs": [],
   "source": [
    "classifier = Sequential()"
   ]
  },
  {
   "cell_type": "code",
   "execution_count": 7,
   "id": "80cdb539",
   "metadata": {},
   "outputs": [],
   "source": [
    "# First convolution layer and pooling\n",
    "classifier.add(Conv2D(32, (3, 3), input_shape=(64, 64, 3), activation='relu'))\n",
    "classifier.add(MaxPooling2D(pool_size=(2, 2)))\n",
    "\n",
    "# Second convolution layer and pooling\n",
    "classifier.add(Conv2D(32, (3, 3), activation='relu'))\n",
    "\n",
    "# input_shape is going to be the pooled feature maps from the previous convolution layer\n",
    "classifier.add(MaxPooling2D(pool_size=(2, 2)))\n",
    "\n",
    "# Flattening the layers\n",
    "classifier.add(Flatten())\n",
    "\n",
    "# Adding a fully connected layer\n",
    "classifier.add(Dense(units=128, activation='relu'))\n",
    "classifier.add(Dense(units=10, activation='softmax')) # softmax for more than 2"
   ]
  },
  {
   "cell_type": "code",
   "execution_count": 8,
   "id": "640cc382",
   "metadata": {},
   "outputs": [
    {
     "name": "stdout",
     "output_type": "stream",
     "text": [
      "Model: \"sequential\"\n",
      "_________________________________________________________________\n",
      " Layer (type)                Output Shape              Param #   \n",
      "=================================================================\n",
      " conv2d (Conv2D)             (None, 62, 62, 32)        896       \n",
      "                                                                 \n",
      " max_pooling2d (MaxPooling2D  (None, 31, 31, 32)       0         \n",
      " )                                                               \n",
      "                                                                 \n",
      " conv2d_1 (Conv2D)           (None, 29, 29, 32)        9248      \n",
      "                                                                 \n",
      " max_pooling2d_1 (MaxPooling  (None, 14, 14, 32)       0         \n",
      " 2D)                                                             \n",
      "                                                                 \n",
      " flatten (Flatten)           (None, 6272)              0         \n",
      "                                                                 \n",
      " dense (Dense)               (None, 128)               802944    \n",
      "                                                                 \n",
      " dense_1 (Dense)             (None, 10)                1290      \n",
      "                                                                 \n",
      "=================================================================\n",
      "Total params: 814,378\n",
      "Trainable params: 814,378\n",
      "Non-trainable params: 0\n",
      "_________________________________________________________________\n"
     ]
    }
   ],
   "source": [
    "classifier.summary()"
   ]
  },
  {
   "cell_type": "code",
   "execution_count": 9,
   "id": "742fa700",
   "metadata": {},
   "outputs": [],
   "source": [
    "classifier.compile(optimizer='adam', loss='sparse_categorical_crossentropy', metrics=['accuracy'])"
   ]
  },
  {
   "cell_type": "code",
   "execution_count": 10,
   "id": "58a51012",
   "metadata": {},
   "outputs": [
    {
     "name": "stderr",
     "output_type": "stream",
     "text": [
      "C:\\Users\\sangavi\\AppData\\Local\\Temp/ipykernel_10804/1497412957.py:1: UserWarning: `Model.fit_generator` is deprecated and will be removed in a future version. Please use `Model.fit`, which supports generators.\n",
      "  classifier.fit_generator(\n"
     ]
    },
    {
     "name": "stdout",
     "output_type": "stream",
     "text": [
      "Epoch 1/10\n",
      "961/961 [==============================] - 30s 30ms/step - loss: 0.2653 - accuracy: 0.9101 - val_loss: 0.0485 - val_accuracy: 0.9814\n",
      "Epoch 2/10\n",
      "961/961 [==============================] - 26s 27ms/step - loss: 0.0121 - accuracy: 0.9958 - val_loss: 0.0035 - val_accuracy: 0.9994\n",
      "Epoch 3/10\n",
      "961/961 [==============================] - 24s 25ms/step - loss: 0.0498 - accuracy: 0.9873 - val_loss: 0.0038 - val_accuracy: 1.0000\n",
      "Epoch 4/10\n",
      "961/961 [==============================] - 25s 26ms/step - loss: 0.0390 - accuracy: 0.9896 - val_loss: 0.0018 - val_accuracy: 1.0000\n",
      "Epoch 5/10\n",
      "961/961 [==============================] - 27s 28ms/step - loss: 7.8062e-04 - accuracy: 0.9998 - val_loss: 0.0091 - val_accuracy: 1.0000\n",
      "Epoch 6/10\n",
      "961/961 [==============================] - 24s 25ms/step - loss: 0.0602 - accuracy: 0.9883 - val_loss: 0.0084 - val_accuracy: 0.9975\n",
      "Epoch 7/10\n",
      "961/961 [==============================] - 24s 25ms/step - loss: 9.6769e-04 - accuracy: 0.9998 - val_loss: 0.0024 - val_accuracy: 1.0000\n",
      "Epoch 8/10\n",
      "961/961 [==============================] - 24s 25ms/step - loss: 1.0451e-04 - accuracy: 1.0000 - val_loss: 5.7084e-04 - val_accuracy: 1.0000\n",
      "Epoch 9/10\n",
      "961/961 [==============================] - 23s 24ms/step - loss: 4.4542e-05 - accuracy: 1.0000 - val_loss: 2.7006e-04 - val_accuracy: 1.0000\n",
      "Epoch 10/10\n",
      "961/961 [==============================] - 23s 24ms/step - loss: 2.1259e-05 - accuracy: 1.0000 - val_loss: 0.0015 - val_accuracy: 1.0000\n"
     ]
    },
    {
     "data": {
      "text/plain": [
       "<keras.callbacks.History at 0x17f01e51820>"
      ]
     },
     "execution_count": 10,
     "metadata": {},
     "output_type": "execute_result"
    }
   ],
   "source": [
    "classifier.fit_generator(\n",
    "        generator=x_train,steps_per_epoch = len(x_train),\n",
    "        epochs=10, validation_data=x_test,validation_steps = len(x_test))# No of images in test set"
   ]
  },
  {
   "cell_type": "code",
   "execution_count": 11,
   "id": "bd16ca0d",
   "metadata": {},
   "outputs": [],
   "source": [
    "classifier.save(\"model.h5\")"
   ]
  },
  {
   "cell_type": "code",
   "execution_count": 13,
   "id": "3586fbf2",
   "metadata": {},
   "outputs": [
    {
     "name": "stderr",
     "output_type": "stream",
     "text": [
      "a model.h5\n"
     ]
    }
   ],
   "source": [
    "!tar -zcvf image-classification-model.tgz model.h5"
   ]
  },
  {
   "cell_type": "code",
   "execution_count": 14,
   "id": "a1059116",
   "metadata": {},
   "outputs": [
    {
     "name": "stdout",
     "output_type": "stream",
     "text": [
      "1/1 [==============================] - 0s 142ms/step\n",
      "Banana Red\n"
     ]
    }
   ],
   "source": [
    "import numpy as np \n",
    "from tensorflow.keras.models import load_model\n",
    "from tensorflow.keras.preprocessing import image\n",
    "model=load_model(r'model.h5')\n",
    "img=image.load_img(r\"C:\\Users\\sangavi\\IBM\\data\\Testing\\Banana Red\\9_100.jpg\",target_size=(64,64))\n",
    "index=['Banana', 'Banana Lady Finger', 'Banana Red', 'Guava', 'Mango', 'Mango Red', 'Papaya', 'Pineapple', 'Pineapple Mini', 'Pomegranate']\n",
    "x=image.img_to_array(img)\n",
    "x=np.expand_dims(x,axis=0)\n",
    "pred=np.argmax(model.predict(x), axis=1)\n",
    "result=str(index[pred[0]])\n",
    "print(result)"
   ]
  },
  {
   "cell_type": "code",
   "execution_count": 15,
   "id": "c69680c8",
   "metadata": {},
   "outputs": [
    {
     "name": "stdout",
     "output_type": "stream",
     "text": [
      "Collecting watson-machine-learning-client"
     ]
    },
    {
     "name": "stderr",
     "output_type": "stream",
     "text": [
      "ERROR: pip's dependency resolver does not currently take into account all the packages that are installed. This behaviour is the source of the following dependency conflicts.\n",
      "conda-repo-cli 1.0.4 requires pathlib, which is not installed.\n",
      "anaconda-project 0.10.1 requires ruamel-yaml, which is not installed.\n"
     ]
    },
    {
     "name": "stdout",
     "output_type": "stream",
     "text": [
      "\n",
      "  Downloading watson_machine_learning_client-1.0.391-py3-none-any.whl (538 kB)\n",
      "Collecting ibm-cos-sdk\n",
      "  Downloading ibm-cos-sdk-2.12.0.tar.gz (55 kB)\n",
      "Requirement already satisfied: tqdm in c:\\users\\sangavi\\anaconda3\\lib\\site-packages (from watson-machine-learning-client) (4.62.3)\n",
      "Requirement already satisfied: pandas in c:\\users\\sangavi\\anaconda3\\lib\\site-packages (from watson-machine-learning-client) (1.3.4)\n",
      "Requirement already satisfied: certifi in c:\\users\\sangavi\\anaconda3\\lib\\site-packages (from watson-machine-learning-client) (2021.10.8)\n",
      "Requirement already satisfied: urllib3 in c:\\users\\sangavi\\anaconda3\\lib\\site-packages (from watson-machine-learning-client) (1.26.7)\n",
      "Collecting boto3\n",
      "  Downloading boto3-1.26.10-py3-none-any.whl (132 kB)\n",
      "Collecting lomond\n",
      "  Downloading lomond-0.3.3-py2.py3-none-any.whl (35 kB)\n",
      "Requirement already satisfied: requests in c:\\users\\sangavi\\anaconda3\\lib\\site-packages (from watson-machine-learning-client) (2.26.0)\n",
      "Collecting tabulate\n",
      "  Downloading tabulate-0.9.0-py3-none-any.whl (35 kB)\n",
      "Collecting jmespath<2.0.0,>=0.7.1\n",
      "  Downloading jmespath-1.0.1-py3-none-any.whl (20 kB)\n",
      "Collecting s3transfer<0.7.0,>=0.6.0\n",
      "  Downloading s3transfer-0.6.0-py3-none-any.whl (79 kB)\n",
      "Collecting botocore<1.30.0,>=1.29.10\n",
      "  Downloading botocore-1.29.10-py3-none-any.whl (9.9 MB)\n",
      "Requirement already satisfied: python-dateutil<3.0.0,>=2.1 in c:\\users\\sangavi\\anaconda3\\lib\\site-packages (from botocore<1.30.0,>=1.29.10->boto3->watson-machine-learning-client) (2.8.2)\n",
      "Requirement already satisfied: six>=1.5 in c:\\users\\sangavi\\anaconda3\\lib\\site-packages (from python-dateutil<3.0.0,>=2.1->botocore<1.30.0,>=1.29.10->boto3->watson-machine-learning-client) (1.16.0)\n",
      "Collecting ibm-cos-sdk-core==2.12.0\n",
      "  Downloading ibm-cos-sdk-core-2.12.0.tar.gz (956 kB)\n",
      "Collecting ibm-cos-sdk-s3transfer==2.12.0\n",
      "  Downloading ibm-cos-sdk-s3transfer-2.12.0.tar.gz (135 kB)\n",
      "Collecting jmespath<2.0.0,>=0.7.1\n",
      "  Downloading jmespath-0.10.0-py2.py3-none-any.whl (24 kB)\n",
      "Collecting requests\n",
      "  Downloading requests-2.28.1-py3-none-any.whl (62 kB)\n",
      "Collecting urllib3\n",
      "  Downloading urllib3-1.26.12-py2.py3-none-any.whl (140 kB)\n",
      "Requirement already satisfied: idna<4,>=2.5 in c:\\users\\sangavi\\anaconda3\\lib\\site-packages (from requests->watson-machine-learning-client) (3.2)\n",
      "Requirement already satisfied: charset-normalizer<3,>=2 in c:\\users\\sangavi\\anaconda3\\lib\\site-packages (from requests->watson-machine-learning-client) (2.0.4)\n",
      "Requirement already satisfied: numpy>=1.17.3 in c:\\users\\sangavi\\anaconda3\\lib\\site-packages (from pandas->watson-machine-learning-client) (1.20.3)\n",
      "Requirement already satisfied: pytz>=2017.3 in c:\\users\\sangavi\\anaconda3\\lib\\site-packages (from pandas->watson-machine-learning-client) (2021.3)\n",
      "Requirement already satisfied: colorama in c:\\users\\sangavi\\anaconda3\\lib\\site-packages (from tqdm->watson-machine-learning-client) (0.4.4)\n",
      "Building wheels for collected packages: ibm-cos-sdk, ibm-cos-sdk-core, ibm-cos-sdk-s3transfer\n",
      "  Building wheel for ibm-cos-sdk (setup.py): started\n",
      "  Building wheel for ibm-cos-sdk (setup.py): finished with status 'done'\n",
      "  Created wheel for ibm-cos-sdk: filename=ibm_cos_sdk-2.12.0-py3-none-any.whl size=73929 sha256=28d1561a23dbadc45e9c368a34d32cc21ed13ddd7736f6877aa1417bf31ea015\n",
      "  Stored in directory: c:\\users\\sangavi\\appdata\\local\\pip\\cache\\wheels\\31\\8c\\e6\\9bd830e254449a64d3e3c8a79da6fb6bc940a19b165d76c3c2\n",
      "  Building wheel for ibm-cos-sdk-core (setup.py): started\n",
      "  Building wheel for ibm-cos-sdk-core (setup.py): finished with status 'done'\n",
      "  Created wheel for ibm-cos-sdk-core: filename=ibm_cos_sdk_core-2.12.0-py3-none-any.whl size=562963 sha256=969ddc57eae2701bdc5bb5fb55a893384223ed29a1aa5fe0fd1b63fa11de7a37\n",
      "  Stored in directory: c:\\users\\sangavi\\appdata\\local\\pip\\cache\\wheels\\e4\\4c\\9e\\97ee8774f14cbfb9aa69201a58056b1e1379123dfbdbedc24e\n",
      "  Building wheel for ibm-cos-sdk-s3transfer (setup.py): started\n",
      "  Building wheel for ibm-cos-sdk-s3transfer (setup.py): finished with status 'done'\n",
      "  Created wheel for ibm-cos-sdk-s3transfer: filename=ibm_cos_sdk_s3transfer-2.12.0-py3-none-any.whl size=89779 sha256=54a8ce84fe10d7540489b284305fda1447b106dd468e8108897974e0bf7a533e\n",
      "  Stored in directory: c:\\users\\sangavi\\appdata\\local\\pip\\cache\\wheels\\4f\\8b\\ce\\0d93b358521705de3f110de4356db2b820551ea009c865e4bd\n",
      "Successfully built ibm-cos-sdk ibm-cos-sdk-core ibm-cos-sdk-s3transfer\n",
      "Installing collected packages: urllib3, requests, jmespath, ibm-cos-sdk-core, botocore, s3transfer, ibm-cos-sdk-s3transfer, tabulate, lomond, ibm-cos-sdk, boto3, watson-machine-learning-client\n",
      "  Attempting uninstall: urllib3\n",
      "    Found existing installation: urllib3 1.26.7\n",
      "    Uninstalling urllib3-1.26.7:\n",
      "      Successfully uninstalled urllib3-1.26.7\n",
      "  Attempting uninstall: requests\n",
      "    Found existing installation: requests 2.26.0\n",
      "    Uninstalling requests-2.26.0:\n",
      "      Successfully uninstalled requests-2.26.0\n",
      "Successfully installed boto3-1.26.10 botocore-1.29.10 ibm-cos-sdk-2.12.0 ibm-cos-sdk-core-2.12.0 ibm-cos-sdk-s3transfer-2.12.0 jmespath-0.10.0 lomond-0.3.3 requests-2.28.1 s3transfer-0.6.0 tabulate-0.9.0 urllib3-1.26.12 watson-machine-learning-client-1.0.391\n"
     ]
    }
   ],
   "source": [
    "!pip install watson-machine-learning-client"
   ]
  },
  {
   "cell_type": "code",
   "execution_count": 21,
   "id": "b3394a5b",
   "metadata": {},
   "outputs": [],
   "source": [
    "from botocore.client import Config"
   ]
  },
  {
   "cell_type": "code",
   "execution_count": 24,
   "id": "10b34d00",
   "metadata": {},
   "outputs": [
    {
     "name": "stderr",
     "output_type": "stream",
     "text": [
      "ERROR: Could not find a version that satisfies the requirement ibm_machine_learning_client (from versions: none)\n",
      "ERROR: No matching distribution found for ibm_machine_learning_client\n"
     ]
    }
   ],
   "source": [
    "!pip install ibmmachine_learning_client"
   ]
  },
  {
   "cell_type": "code",
   "execution_count": 4,
   "id": "5a026884",
   "metadata": {},
   "outputs": [
    {
     "name": "stdout",
     "output_type": "stream",
     "text": [
      "Requirement already satisfied: cloudant in c:\\users\\sangavi\\anaconda3\\lib\\site-packages (2.15.0)\n",
      "Requirement already satisfied: requests<3.0.0,>=2.7.0 in c:\\users\\sangavi\\anaconda3\\lib\\site-packages (from cloudant) (2.28.1)\n",
      "Requirement already satisfied: urllib3<1.27,>=1.21.1 in c:\\users\\sangavi\\anaconda3\\lib\\site-packages (from requests<3.0.0,>=2.7.0->cloudant) (1.26.12)\n",
      "Requirement already satisfied: charset-normalizer<3,>=2 in c:\\users\\sangavi\\anaconda3\\lib\\site-packages (from requests<3.0.0,>=2.7.0->cloudant) (2.0.4)\n",
      "Requirement already satisfied: idna<4,>=2.5 in c:\\users\\sangavi\\anaconda3\\lib\\site-packages (from requests<3.0.0,>=2.7.0->cloudant) (3.2)\n",
      "Requirement already satisfied: certifi>=2017.4.17 in c:\\users\\sangavi\\anaconda3\\lib\\site-packages (from requests<3.0.0,>=2.7.0->cloudant) (2021.10.8)\n"
     ]
    }
   ],
   "source": [
    "!pip install cloudant"
   ]
  },
  {
   "cell_type": "code",
   "execution_count": null,
   "id": "a8ff4f61",
   "metadata": {},
   "outputs": [],
   "source": [
    "from cloudant.client import Cloudant \n",
    "client = Cloudant.iam(\"3ee50175-428c-485a-bc07-a2a2f168570f-bluemix\", \"rveYiwft6107kLBtVLDCboinURgJmcCdziMRtMnlVYtk\", connect=True)\n",
    "\n",
    "#client = Cloudant(USERNAME, PASSWORD, account=ACCOUNT_NAME, connect=True)\n",
    "#client = Cloudant(\"ryuvashree2019@gmail.com\", \"Yuva@2020\", account=\"Yuvashree Rajkumar\", connect=True)\n",
    "#client = Cloudant(\"ryuvashree2019@gmail.com\", \"Yuva@2020\", account=\"Yuvashree Rajkumar\", timeout=300)\n",
    "session = client.session()\n",
    "\n",
    "print('Databases: {0}'.format(client.all_dbs()))\n",
    "my_database = client.create_database('nutrition')\n",
    "\n",
    "# You can check that the database exists\n",
    "if my_database.exists():\n",
    "    print('SUCCESS!!')\n",
    "my_document =my_database['40c4589d30d04b0b230558d823b9b8b3"
   ]
  }
 ],
 "metadata": {
  "kernelspec": {
   "display_name": "Python 3 (ipykernel)",
   "language": "python",
   "name": "python3"
  },
  "language_info": {
   "codemirror_mode": {
    "name": "ipython",
    "version": 3
   },
   "file_extension": ".py",
   "mimetype": "text/x-python",
   "name": "python",
   "nbconvert_exporter": "python",
   "pygments_lexer": "ipython3",
   "version": "3.9.7"
  }
 },
 "nbformat": 4,
 "nbformat_minor": 5
}
